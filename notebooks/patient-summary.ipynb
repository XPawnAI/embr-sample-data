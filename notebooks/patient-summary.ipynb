{
 "cells": [
  {
   "cell_type": "markdown",
   "metadata": {},
   "source": [
    "# Patient Summary Generator\n",
    "\n",
    "This notebook generates a comprehensive patient summary from EMBR formated data (optimized FHIR data) using OpenAI's GPT model. Then we display all the EMBR resources used in the summary."
   ]
  },
  {
   "cell_type": "code",
   "execution_count": 6,
   "metadata": {},
   "outputs": [],
   "source": [
    "import openai\n",
    "import json\n",
    "from dotenv import load_dotenv\n",
    "import os \n",
    "import re\n",
    "from IPython.display import display, Markdown\n",
    "\n",
    "# Load environment variables\n",
    "load_dotenv()\n",
    "OPENAI_API_KEY = os.getenv(\"OPENAI_API_KEY\")"
   ]
  },
  {
   "cell_type": "code",
   "execution_count": 2,
   "metadata": {},
   "outputs": [],
   "source": [
    "with open('..\\patients\\Clair_Towne.json', 'r') as f:\n",
    "    patient_data = json.loads(f.read())"
   ]
  },
  {
   "cell_type": "code",
   "execution_count": 3,
   "metadata": {},
   "outputs": [],
   "source": [
    "\n",
    "# Edit this prompt to fit your needs\n",
    "prompt = f\"\"\"\n",
    "You are analyzing patient data in EMBR format, an optimized summary of FHIR data. The data includes essential information.\n",
    "\n",
    "Provide a summary with the following information:\n",
    "Patient demographics\n",
    "Conditions\n",
    "Medications and MedicationRequests\n",
    "Care plan and goals\n",
    "Key procedures\n",
    "Important Encounters and Observations\n",
    "\n",
    "\n",
    "Only use the data provided, without adding, recommending, or inferring beyond it.\n",
    "Reference any data with the dates and ID (e.g. EN-129 for Encounter 129).\n",
    "\n",
    "Patient Data:\n",
    "{patient_data}\n",
    "\"\"\""
   ]
  },
  {
   "cell_type": "code",
   "execution_count": 4,
   "metadata": {},
   "outputs": [
    {
     "data": {
      "text/markdown": [
       "### Patient Summary\n",
       "\n",
       "**Patient Demographics:**\n",
       "- **Name:** Mr. Clair Herschel Towne\n",
       "- **Gender:** Male\n",
       "- **Date of Birth:** May 22, 1957\n",
       "- **Address:** 555 O'Kon Camp Unit 79, Boston, MA, 02467\n",
       "- **Marital Status:** Married\n",
       "- **Communication Language:** English (United States)\n",
       "- **Status:** Living\n",
       "\n",
       "---\n",
       "\n",
       "**Conditions:**\n",
       "1. **Essential hypertension (disorder)** - Confirmed on June 11, 2003 (CN-26)\n",
       "2. **Osteoarthritis of knee (disorder)** - Confirmed on May 5, 2010 (CN-47)\n",
       "3. **Ischemic heart disease (disorder)** - Confirmed on August 1, 2012 (CN-59)\n",
       "4. **Dependent drug abuse (disorder)** - Confirmed on August 28, 2013 (CN-102)\n",
       "5. **Malignant neoplasm of colon (disorder)** - Confirmed on June 29, 2021 (CN-621)\n",
       "6. **Chronic pain (finding)** - Confirmed on February 1, 2013 (CN-96)\n",
       "7. **Gingivitis (disorder)** - Confirmed on August 24, 2016 (CN-226)\n",
       "8. **Anemia (disorder)** - Confirmed on June 29, 2021 (CN-593)\n",
       "\n",
       "---\n",
       "\n",
       "**Medications and Medication Requests:**\n",
       "- **Active Medications:**\n",
       "  - Sodium fluoride 0.0272 MG/MG Oral Gel\n",
       "  - Leucovorin 100 MG Injection\n",
       "  - 10 ML oxaliplatin 5 MG/ML Injection\n",
       "- **Medication Requests:**\n",
       "  - Naproxen sodium 220 MG Oral Tablet (MR-49)\n",
       "  - Hydrochlorothiazide 25 MG Oral Tablet (MR-243, stopped)\n",
       "  - Various antihypertensive and antiplatelet medications.\n",
       "\n",
       "---\n",
       "\n",
       "**Care Plan and Goals:**\n",
       "1. **Lifestyle education regarding hypertension** - Active since June 11, 2003 (CP-28)\n",
       "2. **Musculoskeletal care (regime/therapy)** - Active since May 5, 2010 (CP-53)\n",
       "3. **Cancer care plan** - Completed on August 15, 2023 (CP-623)\n",
       "4. **Drug addiction counseling and therapy** - Active since September 25, 2017 (CP-315)\n",
       "\n",
       "---\n",
       "\n",
       "**Key Procedures:**\n",
       "- **Colonoscopy** - Completed on June 23, 2021 (PR-594)\n",
       "- **Partial resection of colon** - Completed on July 9, 2021 (PR-658)\n",
       "- **Combined chemotherapy and radiation therapy** - Multiple instances including August 7, 2021 (PR-695) and November 7, 2021 (PR-872)\n",
       "\n",
       "---\n",
       "\n",
       "**Important Encounters and Observations:**\n",
       "1. **Encounter for drug overdose** - Emergency room admission on August 4, 2023 (EN-1108)\n",
       "2. **General examinations** - Multiple encounters including October 4, 2023 (EN-1125)\n",
       "3. **Pain severity assessments** - Documented pain levels ranging from 0 to 8 on a 10-point scale during various encounters.\n",
       "\n",
       "**Key Observations:**\n",
       "- **Body Height:** 183.1 cm\n",
       "- **Body Weight:** 101.1 kg\n",
       "- **Blood Pressure:** Fluctuates between systolic readings of 115 mmHg and 134 mmHg.\n",
       "- **Cholesterol Levels:** Varied but highest reported total cholesterol of 216.11 mg/dL (2024).\n",
       "- **GAD-7 Scores:** Indicating anxiety levels, including a score of 11 on September 22, 2021 (OB-236).\n",
       "\n",
       "---\n",
       "\n",
       "This summary captures essential aspects of Mr. Clair Herschel Towne's health status, including demographics, medical conditions, medication management, care plans, key procedures, and significant encounters and observations over time."
      ],
      "text/plain": [
       "<IPython.core.display.Markdown object>"
      ]
     },
     "metadata": {},
     "output_type": "display_data"
    }
   ],
   "source": [
    "response = openai.chat.completions.create(\n",
    "    model=\"gpt-4o-mini\", # Not all files can be summarized with gpt-4o, as the tokens are too high\n",
    "    messages=[\n",
    "        {\"role\": \"system\", \"content\": \"You are a healthcare professional skilled at analyzing and summarizing patient records.\"},\n",
    "        {\"role\": \"user\", \"content\": prompt}\n",
    "    ],\n",
    "    temperature=0.7,\n",
    "    max_tokens=5000\n",
    ")\n",
    "\n",
    "summary = response.choices[0].message.content\n",
    "display(Markdown(summary))\n"
   ]
  },
  {
   "cell_type": "markdown",
   "metadata": {},
   "source": [
    "***\n",
    "***\n",
    "# Resource Referenced in Summary \n",
    "\n",
    "In the previous section, we generated a comprehensive patient summary by processing EMBR file and extracting relevant medical details. Now, let's examine the resources used to generate the summary.\n",
    "\n",
    "# Testability and Explainability\n",
    "Having references enhances the testability of your Generative AI results, allowing you to verify against the ground truth."
   ]
  },
  {
   "cell_type": "code",
   "execution_count": 12,
   "metadata": {},
   "outputs": [
    {
     "data": {
      "text/markdown": [
       "### Encounter - EN-1108"
      ],
      "text/plain": [
       "<IPython.core.display.Markdown object>"
      ]
     },
     "metadata": {},
     "output_type": "display_data"
    },
    {
     "data": {
      "text/markdown": [
       "- **date**: 2023-08-04T09:21:45\n",
       "- **ref**:\n",
       "- **code**:\n",
       "  - Emergency room admission\n",
       "  - Drug overdose\n",
       "  - emergency\n",
       "- **stat**: finished\n",
       "- **provider**: performer Dr. Wilson Turner\n",
       "- **facility**: KATZMAN FAMILY CENTER FOR LIVING\n",
       "- **endDate**: 2023-08-04T12:21:45"
      ],
      "text/plain": [
       "<IPython.core.display.Markdown object>"
      ]
     },
     "metadata": {},
     "output_type": "display_data"
    },
    {
     "data": {
      "text/markdown": [
       "---"
      ],
      "text/plain": [
       "<IPython.core.display.Markdown object>"
      ]
     },
     "metadata": {},
     "output_type": "display_data"
    },
    {
     "data": {
      "text/markdown": [
       "### Encounter - EN-1125"
      ],
      "text/plain": [
       "<IPython.core.display.Markdown object>"
      ]
     },
     "metadata": {},
     "output_type": "display_data"
    },
    {
     "data": {
      "text/markdown": [
       "- **date**: 2023-10-04T10:39:02\n",
       "- **ref**:\n",
       "- **code**:\n",
       "  - General examination of patient\n",
       "  - ambulatory\n",
       "- **stat**: finished\n",
       "- **provider**: performer Dr. Maricruz Considine\n",
       "- **facility**: NORTH END COMMUNITY HEALTH COMMITTEE INC\n",
       "- **endDate**: 2023-10-04T11:10:17"
      ],
      "text/plain": [
       "<IPython.core.display.Markdown object>"
      ]
     },
     "metadata": {},
     "output_type": "display_data"
    },
    {
     "data": {
      "text/markdown": [
       "---"
      ],
      "text/plain": [
       "<IPython.core.display.Markdown object>"
      ]
     },
     "metadata": {},
     "output_type": "display_data"
    },
    {
     "data": {
      "text/markdown": [
       "### Condition - CN-26"
      ],
      "text/plain": [
       "<IPython.core.display.Markdown object>"
      ]
     },
     "metadata": {},
     "output_type": "display_data"
    },
    {
     "data": {
      "text/markdown": [
       "- **date**: 2003-06-11T10:39:02\n",
       "- **ref**:\n",
       "  - EN-25\n",
       "- **code**:\n",
       "  - Essential hypertension (disorder)\n",
       "- **onsetDateTime**: 2003-06-11T10:39:02\n",
       "- **stat**: confirmed"
      ],
      "text/plain": [
       "<IPython.core.display.Markdown object>"
      ]
     },
     "metadata": {},
     "output_type": "display_data"
    },
    {
     "data": {
      "text/markdown": [
       "---"
      ],
      "text/plain": [
       "<IPython.core.display.Markdown object>"
      ]
     },
     "metadata": {},
     "output_type": "display_data"
    },
    {
     "data": {
      "text/markdown": [
       "### Condition - CN-47"
      ],
      "text/plain": [
       "<IPython.core.display.Markdown object>"
      ]
     },
     "metadata": {},
     "output_type": "display_data"
    },
    {
     "data": {
      "text/markdown": [
       "- **date**: 2010-05-05T10:39:02\n",
       "- **ref**:\n",
       "  - EN-46\n",
       "- **code**:\n",
       "  - Osteoarthritis of knee (disorder)\n",
       "- **onsetDateTime**: 2010-05-05T10:39:02\n",
       "- **stat**: confirmed"
      ],
      "text/plain": [
       "<IPython.core.display.Markdown object>"
      ]
     },
     "metadata": {},
     "output_type": "display_data"
    },
    {
     "data": {
      "text/markdown": [
       "---"
      ],
      "text/plain": [
       "<IPython.core.display.Markdown object>"
      ]
     },
     "metadata": {},
     "output_type": "display_data"
    },
    {
     "data": {
      "text/markdown": [
       "### Condition - CN-59"
      ],
      "text/plain": [
       "<IPython.core.display.Markdown object>"
      ]
     },
     "metadata": {},
     "output_type": "display_data"
    },
    {
     "data": {
      "text/markdown": [
       "- **date**: 2012-08-01T10:39:02\n",
       "- **ref**:\n",
       "  - EN-58\n",
       "- **code**:\n",
       "  - Ischemic heart disease (disorder)\n",
       "- **onsetDateTime**: 2012-08-01T10:39:02\n",
       "- **stat**: confirmed"
      ],
      "text/plain": [
       "<IPython.core.display.Markdown object>"
      ]
     },
     "metadata": {},
     "output_type": "display_data"
    },
    {
     "data": {
      "text/markdown": [
       "---"
      ],
      "text/plain": [
       "<IPython.core.display.Markdown object>"
      ]
     },
     "metadata": {},
     "output_type": "display_data"
    },
    {
     "data": {
      "text/markdown": [
       "### Condition - CN-96"
      ],
      "text/plain": [
       "<IPython.core.display.Markdown object>"
      ]
     },
     "metadata": {},
     "output_type": "display_data"
    },
    {
     "data": {
      "text/markdown": [
       "- **date**: 2013-02-01T09:39:02\n",
       "- **ref**:\n",
       "  - EN-95\n",
       "- **code**:\n",
       "  - Chronic pain (finding)\n",
       "- **onsetDateTime**: 2013-02-01T09:39:02\n",
       "- **stat**: confirmed"
      ],
      "text/plain": [
       "<IPython.core.display.Markdown object>"
      ]
     },
     "metadata": {},
     "output_type": "display_data"
    },
    {
     "data": {
      "text/markdown": [
       "---"
      ],
      "text/plain": [
       "<IPython.core.display.Markdown object>"
      ]
     },
     "metadata": {},
     "output_type": "display_data"
    },
    {
     "data": {
      "text/markdown": [
       "### Condition - CN-102"
      ],
      "text/plain": [
       "<IPython.core.display.Markdown object>"
      ]
     },
     "metadata": {},
     "output_type": "display_data"
    },
    {
     "data": {
      "text/markdown": [
       "- **date**: 2013-08-28T10:39:02\n",
       "- **ref**:\n",
       "  - EN-101\n",
       "- **code**:\n",
       "  - Dependent drug abuse (disorder)\n",
       "- **onsetDateTime**: 2013-08-28T10:39:02\n",
       "- **stat**: confirmed"
      ],
      "text/plain": [
       "<IPython.core.display.Markdown object>"
      ]
     },
     "metadata": {},
     "output_type": "display_data"
    },
    {
     "data": {
      "text/markdown": [
       "---"
      ],
      "text/plain": [
       "<IPython.core.display.Markdown object>"
      ]
     },
     "metadata": {},
     "output_type": "display_data"
    },
    {
     "data": {
      "text/markdown": [
       "### Condition - CN-226"
      ],
      "text/plain": [
       "<IPython.core.display.Markdown object>"
      ]
     },
     "metadata": {},
     "output_type": "display_data"
    },
    {
     "data": {
      "text/markdown": [
       "- **date**: 2016-08-24T12:20:22\n",
       "- **ref**:\n",
       "  - EN-224\n",
       "- **code**:\n",
       "  - Gingivitis (disorder)\n",
       "- **onsetDateTime**: 2016-08-24T12:20:22\n",
       "- **abatementDateTime**: 2016-09-07T13:02:17\n",
       "- **stat**: confirmed"
      ],
      "text/plain": [
       "<IPython.core.display.Markdown object>"
      ]
     },
     "metadata": {},
     "output_type": "display_data"
    },
    {
     "data": {
      "text/markdown": [
       "---"
      ],
      "text/plain": [
       "<IPython.core.display.Markdown object>"
      ]
     },
     "metadata": {},
     "output_type": "display_data"
    },
    {
     "data": {
      "text/markdown": [
       "### Condition - CN-593"
      ],
      "text/plain": [
       "<IPython.core.display.Markdown object>"
      ]
     },
     "metadata": {},
     "output_type": "display_data"
    },
    {
     "data": {
      "text/markdown": [
       "- **date**: 2021-06-29T21:08:38\n",
       "- **ref**:\n",
       "  - EN-592\n",
       "- **code**:\n",
       "  - Anemia (disorder)\n",
       "- **onsetDateTime**: 2021-06-29T21:08:38\n",
       "- **stat**: confirmed"
      ],
      "text/plain": [
       "<IPython.core.display.Markdown object>"
      ]
     },
     "metadata": {},
     "output_type": "display_data"
    },
    {
     "data": {
      "text/markdown": [
       "---"
      ],
      "text/plain": [
       "<IPython.core.display.Markdown object>"
      ]
     },
     "metadata": {},
     "output_type": "display_data"
    },
    {
     "data": {
      "text/markdown": [
       "### Condition - CN-621"
      ],
      "text/plain": [
       "<IPython.core.display.Markdown object>"
      ]
     },
     "metadata": {},
     "output_type": "display_data"
    },
    {
     "data": {
      "text/markdown": [
       "- **date**: 2021-06-29T22:24:43\n",
       "- **ref**:\n",
       "  - EN-620\n",
       "- **code**:\n",
       "  - Malignant neoplasm of colon (disorder)\n",
       "- **onsetDateTime**: 2021-06-29T22:24:43\n",
       "- **abatementDateTime**: 2023-08-15T10:01:57\n",
       "- **stat**: confirmed"
      ],
      "text/plain": [
       "<IPython.core.display.Markdown object>"
      ]
     },
     "metadata": {},
     "output_type": "display_data"
    },
    {
     "data": {
      "text/markdown": [
       "---"
      ],
      "text/plain": [
       "<IPython.core.display.Markdown object>"
      ]
     },
     "metadata": {},
     "output_type": "display_data"
    },
    {
     "data": {
      "text/markdown": [
       "### CarePlan - CP-28"
      ],
      "text/plain": [
       "<IPython.core.display.Markdown object>"
      ]
     },
     "metadata": {},
     "output_type": "display_data"
    },
    {
     "data": {
      "text/markdown": [
       "- **date**: 2003-06-11T10:39:02\n",
       "- **ref**:\n",
       "  - EN-25\n",
       "  - CN-26\n",
       "- **code**:\n",
       "  - Prescribed activity/exercise education at NORTH END COMMUNITY HEALTH COMMITTEE INC\n",
       "  - Counseling about alcohol consumption at NORTH END COMMUNITY HEALTH COMMITTEE INC\n",
       "  - Dietary Approaches to Stop Hypertension diet (regime/therapy) at NORTH END COMMUNITY HEALTH COMMITTEE INC\n",
       "  - Smoking cessation education at NORTH END COMMUNITY HEALTH COMMITTEE INC\n",
       "  - careplan-category assess-plan\n",
       "  - Lifestyle education regarding hypertension\n",
       "  - Prescribed activity/exercise education\n",
       "  - Counseling about alcohol consumption\n",
       "  - Dietary Approaches to Stop Hypertension diet (regime/therapy)\n",
       "  - Smoking cessation education\n",
       "- **text**: Care Plan for Lifestyle education regarding hypertension.Care plan is meant to treat Essential hypertension (disorder).Activities: Lifestyle education regarding hypertensionLifestyle education regarding hypertensionLifestyle education regarding hypertensionLifestyle education regarding hypertension\n",
       "- **stat**: active\n",
       "- **intent**: order"
      ],
      "text/plain": [
       "<IPython.core.display.Markdown object>"
      ]
     },
     "metadata": {},
     "output_type": "display_data"
    },
    {
     "data": {
      "text/markdown": [
       "---"
      ],
      "text/plain": [
       "<IPython.core.display.Markdown object>"
      ]
     },
     "metadata": {},
     "output_type": "display_data"
    },
    {
     "data": {
      "text/markdown": [
       "### CarePlan - CP-53"
      ],
      "text/plain": [
       "<IPython.core.display.Markdown object>"
      ]
     },
     "metadata": {},
     "output_type": "display_data"
    },
    {
     "data": {
      "text/markdown": [
       "- **date**: 2010-05-05T10:39:02\n",
       "- **ref**:\n",
       "  - EN-46\n",
       "  - CN-47\n",
       "- **code**:\n",
       "  - Joint mobility exercises (regime/therapy) at BOSTON MEDICAL CENTER CORPORATION-\n",
       "  - Heat therapy at BOSTON MEDICAL CENTER CORPORATION-\n",
       "  - careplan-category assess-plan\n",
       "  - Musculoskeletal care (regime/therapy)\n",
       "  - Joint mobility exercises (regime/therapy)\n",
       "  - Heat therapy\n",
       "- **text**: Care Plan for Musculoskeletal care (regime/therapy).Care plan is meant to treat Osteoarthritis of knee (disorder).Activities: Musculoskeletal care (regime/therapy)Musculoskeletal care (regime/therapy)\n",
       "- **stat**: active\n",
       "- **intent**: order"
      ],
      "text/plain": [
       "<IPython.core.display.Markdown object>"
      ]
     },
     "metadata": {},
     "output_type": "display_data"
    },
    {
     "data": {
      "text/markdown": [
       "---"
      ],
      "text/plain": [
       "<IPython.core.display.Markdown object>"
      ]
     },
     "metadata": {},
     "output_type": "display_data"
    },
    {
     "data": {
      "text/markdown": [
       "### CarePlan - CP-315"
      ],
      "text/plain": [
       "<IPython.core.display.Markdown object>"
      ]
     },
     "metadata": {},
     "output_type": "display_data"
    },
    {
     "data": {
      "text/markdown": [
       "- **date**: 2017-09-25T08:43:09\n",
       "- **ref**:\n",
       "  - EN-312\n",
       "- **code**:\n",
       "  - Drug addiction counseling at KATZMAN FAMILY CENTER FOR LIVING\n",
       "  - Drug detoxification (regime/therapy) at KATZMAN FAMILY CENTER FOR LIVING\n",
       "  - Drug addiction therapy (regime/therapy) at KATZMAN FAMILY CENTER FOR LIVING\n",
       "  - careplan-category assess-plan\n",
       "  - Care plan (record artifact)\n",
       "  - Drug addiction counseling\n",
       "  - Drug detoxification (regime/therapy)\n",
       "  - Drug addiction therapy (regime/therapy)\n",
       "- **text**: Care Plan for Care plan (record artifact).Activities: Care plan (record artifact)Care plan (record artifact)Care plan (record artifact)\n",
       "- **stat**: active\n",
       "- **intent**: order"
      ],
      "text/plain": [
       "<IPython.core.display.Markdown object>"
      ]
     },
     "metadata": {},
     "output_type": "display_data"
    },
    {
     "data": {
      "text/markdown": [
       "---"
      ],
      "text/plain": [
       "<IPython.core.display.Markdown object>"
      ]
     },
     "metadata": {},
     "output_type": "display_data"
    },
    {
     "data": {
      "text/markdown": [
       "### CarePlan - CP-623"
      ],
      "text/plain": [
       "<IPython.core.display.Markdown object>"
      ]
     },
     "metadata": {},
     "output_type": "display_data"
    },
    {
     "data": {
      "text/markdown": [
       "- **date**: 2021-06-29T22:24:43\n",
       "- **ref**:\n",
       "  - EN-620\n",
       "  - CN-621\n",
       "- **code**:\n",
       "  - Healthy diet (finding) at BOSTON MEDICAL CENTER CORPORATION-\n",
       "  - Colonoscopy planned (situation) at BOSTON MEDICAL CENTER CORPORATION-\n",
       "  - Cancer education at BOSTON MEDICAL CENTER CORPORATION-\n",
       "  - careplan-category assess-plan\n",
       "  - Cancer care plan (record artifact)\n",
       "  - Healthy diet (finding)\n",
       "  - Colonoscopy planned (situation)\n",
       "  - Cancer education\n",
       "- **text**: Care Plan for Cancer care plan (record artifact).Care plan is meant to treat Malignant neoplasm of colon (disorder).Activities: Cancer care plan (record artifact)Cancer care plan (record artifact)Cancer care plan (record artifact)\n",
       "- **stat**: completed\n",
       "- **intent**: order\n",
       "- **endDate**: 2023-08-15T10:01:57"
      ],
      "text/plain": [
       "<IPython.core.display.Markdown object>"
      ]
     },
     "metadata": {},
     "output_type": "display_data"
    },
    {
     "data": {
      "text/markdown": [
       "---"
      ],
      "text/plain": [
       "<IPython.core.display.Markdown object>"
      ]
     },
     "metadata": {},
     "output_type": "display_data"
    },
    {
     "data": {
      "text/markdown": [
       "### MedicationRequest - MR-49"
      ],
      "text/plain": [
       "<IPython.core.display.Markdown object>"
      ]
     },
     "metadata": {},
     "output_type": "display_data"
    },
    {
     "data": {
      "text/markdown": [
       "- **date**: 2010-05-05T10:39:02\n",
       "- **ref**:\n",
       "  - EN-46\n",
       "  - CN-47\n",
       "- **code**:\n",
       "  - Naproxen sodium 220 MG Oral Tablet\n",
       "- **stat**: active\n",
       "- **intent**: order\n",
       "- **requester**: Dr. Sharron Batz"
      ],
      "text/plain": [
       "<IPython.core.display.Markdown object>"
      ]
     },
     "metadata": {},
     "output_type": "display_data"
    },
    {
     "data": {
      "text/markdown": [
       "---"
      ],
      "text/plain": [
       "<IPython.core.display.Markdown object>"
      ]
     },
     "metadata": {},
     "output_type": "display_data"
    },
    {
     "data": {
      "text/markdown": [
       "### MedicationRequest - MR-243"
      ],
      "text/plain": [
       "<IPython.core.display.Markdown object>"
      ]
     },
     "metadata": {},
     "output_type": "display_data"
    },
    {
     "data": {
      "text/markdown": [
       "- **date**: 2016-08-24T10:39:02\n",
       "- **ref**:\n",
       "  - EN-224\n",
       "  - CN-26\n",
       "- **code**:\n",
       "  - Hydrochlorothiazide 25 MG Oral Tablet\n",
       "- **stat**: stopped\n",
       "- **intent**: order\n",
       "- **requester**: Dr. Maricruz Considine\n",
       "- **dosageInstruction**: 1 for 1.0 d"
      ],
      "text/plain": [
       "<IPython.core.display.Markdown object>"
      ]
     },
     "metadata": {},
     "output_type": "display_data"
    },
    {
     "data": {
      "text/markdown": [
       "---"
      ],
      "text/plain": [
       "<IPython.core.display.Markdown object>"
      ]
     },
     "metadata": {},
     "output_type": "display_data"
    },
    {
     "data": {
      "text/markdown": [
       "### Procedure - PR-594"
      ],
      "text/plain": [
       "<IPython.core.display.Markdown object>"
      ]
     },
     "metadata": {},
     "output_type": "display_data"
    },
    {
     "data": {
      "text/markdown": [
       "- **date**: 2021-06-23T10:39:02\n",
       "- **ref**:\n",
       "  - EN-592\n",
       "- **code**:\n",
       "  - Colonoscopy\n",
       "- **stat**: completed\n",
       "- **endDate**: 2021-06-23T11:08:38"
      ],
      "text/plain": [
       "<IPython.core.display.Markdown object>"
      ]
     },
     "metadata": {},
     "output_type": "display_data"
    },
    {
     "data": {
      "text/markdown": [
       "---"
      ],
      "text/plain": [
       "<IPython.core.display.Markdown object>"
      ]
     },
     "metadata": {},
     "output_type": "display_data"
    },
    {
     "data": {
      "text/markdown": [
       "### Procedure - PR-658"
      ],
      "text/plain": [
       "<IPython.core.display.Markdown object>"
      ]
     },
     "metadata": {},
     "output_type": "display_data"
    },
    {
     "data": {
      "text/markdown": [
       "- **date**: 2021-07-09T22:24:43\n",
       "- **ref**:\n",
       "  - EN-656\n",
       "  - CN-621\n",
       "- **code**:\n",
       "  - Partial resection of colon\n",
       "- **stat**: completed\n",
       "- **endDate**: 2021-07-09T23:01:57"
      ],
      "text/plain": [
       "<IPython.core.display.Markdown object>"
      ]
     },
     "metadata": {},
     "output_type": "display_data"
    },
    {
     "data": {
      "text/markdown": [
       "---"
      ],
      "text/plain": [
       "<IPython.core.display.Markdown object>"
      ]
     },
     "metadata": {},
     "output_type": "display_data"
    },
    {
     "data": {
      "text/markdown": [
       "### Procedure - PR-695"
      ],
      "text/plain": [
       "<IPython.core.display.Markdown object>"
      ]
     },
     "metadata": {},
     "output_type": "display_data"
    },
    {
     "data": {
      "text/markdown": [
       "- **date**: 2021-08-07T07:01:57\n",
       "- **ref**:\n",
       "  - EN-666\n",
       "  - CN-621\n",
       "- **code**:\n",
       "  - Combined chemotherapy and radiation therapy\n",
       "- **stat**: completed\n",
       "- **endDate**: 2021-08-07T07:16:57"
      ],
      "text/plain": [
       "<IPython.core.display.Markdown object>"
      ]
     },
     "metadata": {},
     "output_type": "display_data"
    },
    {
     "data": {
      "text/markdown": [
       "---"
      ],
      "text/plain": [
       "<IPython.core.display.Markdown object>"
      ]
     },
     "metadata": {},
     "output_type": "display_data"
    },
    {
     "data": {
      "text/markdown": [
       "### Procedure - PR-872"
      ],
      "text/plain": [
       "<IPython.core.display.Markdown object>"
      ]
     },
     "metadata": {},
     "output_type": "display_data"
    },
    {
     "data": {
      "text/markdown": [
       "- **date**: 2021-11-07T16:01:57\n",
       "- **ref**:\n",
       "  - EN-843\n",
       "  - CN-621\n",
       "- **code**:\n",
       "  - Combined chemotherapy and radiation therapy\n",
       "- **stat**: completed\n",
       "- **endDate**: 2021-11-07T16:16:57"
      ],
      "text/plain": [
       "<IPython.core.display.Markdown object>"
      ]
     },
     "metadata": {},
     "output_type": "display_data"
    },
    {
     "data": {
      "text/markdown": [
       "---"
      ],
      "text/plain": [
       "<IPython.core.display.Markdown object>"
      ]
     },
     "metadata": {},
     "output_type": "display_data"
    },
    {
     "data": {
      "text/markdown": [
       "### Observation - OB-236"
      ],
      "text/plain": [
       "<IPython.core.display.Markdown object>"
      ]
     },
     "metadata": {},
     "output_type": "display_data"
    },
    {
     "data": {
      "text/markdown": [
       "- **date**: 2016-08-24T11:46:19\n",
       "- **ref**:\n",
       "  - EN-224\n",
       "- **code**:\n",
       "  - Generalized anxiety disorder 7 item (GAD-7) total score [Reported.PHQ] is 4 {score}\n",
       "- **stat**: final\n",
       "- **category**: Survey"
      ],
      "text/plain": [
       "<IPython.core.display.Markdown object>"
      ]
     },
     "metadata": {},
     "output_type": "display_data"
    },
    {
     "data": {
      "text/markdown": [
       "---"
      ],
      "text/plain": [
       "<IPython.core.display.Markdown object>"
      ]
     },
     "metadata": {},
     "output_type": "display_data"
    }
   ],
   "source": [
    "matches = re.findall(r'[A-Z]{2}-\\d+', summary)\n",
    "for type in patient_data:\n",
    "    for resource in patient_data[type]:\n",
    "        if resource['id'] in matches:\n",
    "            display(Markdown(f\"### {type} - {resource.get('id')}\"))\n",
    "            details = []\n",
    "            for key in resource:\n",
    "                if key != 'id':\n",
    "                    if isinstance(resource[key], list):\n",
    "                        details.append(f\"- **{key}**:\")\n",
    "                        for item in resource[key]:\n",
    "                            details.append(f\"  - {item}\")\n",
    "                    else:\n",
    "                        details.append(f\"- **{key}**: {resource[key]}\")\n",
    "            display(Markdown('\\n'.join(details)))\n",
    "            display(Markdown(\"---\"))"
   ]
  }
 ],
 "metadata": {
  "kernelspec": {
   "display_name": "Python 3",
   "language": "python",
   "name": "python3"
  },
  "language_info": {
   "codemirror_mode": {
    "name": "ipython",
    "version": 3
   },
   "file_extension": ".py",
   "mimetype": "text/x-python",
   "name": "python",
   "nbconvert_exporter": "python",
   "pygments_lexer": "ipython3",
   "version": "3.11.9"
  }
 },
 "nbformat": 4,
 "nbformat_minor": 2
}
