{
 "cells": [
  {
   "cell_type": "markdown",
   "metadata": {},
   "source": [
    "# Patient Summary Generator\n",
    "\n",
    "This notebook generates a comprehensive patient summary from EMBR format data (optimized FHIR data) using OpenAI's GPT model.\n",
    "\n",
    "## Process\n",
    "1. Loads environment variables including OpenAI API key\n",
    "2. Reads patient data from .embr files\n",
    "3. Processes the data using a customized prompt\n",
    "4. Generates a structured summary including:\n",
    "   - Demographics\n",
    "   - Conditions\n",
    "   - Medications\n",
    "   - Care plans\n",
    "   - Procedures\n",
    "   - Key encounters and observations\n",
    "\n",
    "The summary maintains strict adherence to the provided data without inference or external recommendations."
   ]
  },
  {
   "cell_type": "code",
   "execution_count": 25,
   "metadata": {},
   "outputs": [],
   "source": [
    "import openai\n",
    "from pathlib import Path\n",
    "from dotenv import load_dotenv\n",
    "import os\n",
    "from IPython.display import display, Markdown\n",
    "\n",
    "# Load environment variables\n",
    "load_dotenv()\n",
    "OPENAI_API_KEY = os.getenv(\"OPENAI_API_KEY\")"
   ]
  },
  {
   "cell_type": "code",
   "execution_count": 26,
   "metadata": {},
   "outputs": [],
   "source": [
    "# Get first .embr file\n",
    "embr_files = list(Path(\"../patients\").glob(\"*.embr\"))\n",
    "\n",
    "# Arbitrary patient file, Adjust from 0-99 for different patients\n",
    "with open(embr_files[11], 'r') as f:\n",
    "    patient_data = f.read()"
   ]
  },
  {
   "cell_type": "code",
   "execution_count": 27,
   "metadata": {},
   "outputs": [],
   "source": [
    "\n",
    "# Edit this prompt to fit your needs\n",
    "prompt = f\"\"\"\n",
    "You are analyzing patient data in EMBR format, an optimized summary of FHIR data. The data includes essential information.\n",
    "\n",
    "Provide a summary with the following information:\n",
    "Patient demographics\n",
    "Conditions\n",
    "Medications and MedicationRequests\n",
    "Care plan and goals\n",
    "Key procedures\n",
    "Important Encounters and Observations\n",
    "\n",
    "\n",
    "Only use the data provided, without adding, recommending, or inferring beyond it.\n",
    "Reference any data with the dates and ID (e.g. EN-129 for Encounter 129).\n",
    "\n",
    "Patient Data:\n",
    "{patient_data}\n",
    "\"\"\""
   ]
  },
  {
   "cell_type": "markdown",
   "metadata": {},
   "source": [
    "##### In this cell, we make an API call to OpenAI's GPT-4 model to analyze and summarize patient data. The model is given a system prompt identifying it as a healthcare professional, and a user prompt containing:\n",
    "- The patient data in EMBR format\n",
    "- Instructions to summarize specific aspects like demographics, conditions, medications etc.\n",
    "- Guidelines to only use provided data and reference data points with dates/IDs\n",
    "\n",
    "The response is stored in the 'summary' variable which contains the generated patient summary text.\n"
   ]
  },
  {
   "cell_type": "code",
   "execution_count": 32,
   "metadata": {},
   "outputs": [
    {
     "data": {
      "text/markdown": [
       "### Patient Summary\n",
       "\n",
       "**Patient Demographics:**\n",
       "- **Name:** Mr. Chas Clark Green\n",
       "- **Gender:** Male\n",
       "- **Date of Birth:** October 30, 1985\n",
       "- **Address:** 244 Mohr Club Unit 36, Hudson, MA, 01749\n",
       "- **Marital Status:** Never Married\n",
       "- **Communication Language:** English (United States)\n",
       "\n",
       "---\n",
       "\n",
       "**Conditions:**\n",
       "- **Confirmed Conditions:**\n",
       "  - Risk activity involvement (EN-2, 2001-12-12)\n",
       "  - Medication review due (EN-8, 2003-12-24)\n",
       "  - Prediabetes (EN-15, 2008-01-02)\n",
       "  - Stress (EN-15, 2008-01-02, resolved 2017-01-11)\n",
       "  - Anemia (EN-26, 2011-01-05)\n",
       "  - Acute viral pharyngitis (EN-42, 2016-01-08)\n",
       "  - Viral sinusitis (EN-49, 2016-10-19)\n",
       "  - Obesity (BMI 30+) (EN-58, 2016-10-26)\n",
       "  - Gingivitis (EN-58, 2016-10-26, resolved 2016-11-16)\n",
       "  - Sleep disorder (EN-101, 2016-11-02)\n",
       "  - Sleep apnea (EN-139, 2016-12-05)\n",
       "  - Essential hypertension (EN-155, 2017-01-11)\n",
       "  - Metabolic syndrome X (EN-549, 2022-02-09)\n",
       "  - Injury of knee (EN-666, 2023-06-19)\n",
       "  - Rupture of patellar tendon (EN-680, 2023-06-26)\n",
       "  - Injury of medial collateral ligament of knee (EN-778, 2024-07-10)\n",
       "\n",
       "---\n",
       "\n",
       "**Medications and Medication Requests:**\n",
       "- **Active Medication:**\n",
       "  - Sodium fluoride 0.0272 MG/MG Oral Gel (MD-122, active)\n",
       "- **Medication Requests (Stopped):**\n",
       "  - Amoxicillin 250 MG / Clavulanate 125 MG Oral Tablet (MR-51, 2016-10-19)\n",
       "  - Hydrochlorothiazide 25 MG Oral Tablet (multiple requests, last on MR-765, active as of 2024-02-21)\n",
       "  - Ibuprofen 200 MG Oral Tablet (MR-459, 2020-05-19)\n",
       "  - Naproxen sodium 220 MG Oral Tablet (MR-670, 2023-06-19; MR-782, 2024-07-10)\n",
       "  - Meperidine Hydrochloride 50 MG Oral Tablet (MR-683, 2023-06-26)\n",
       "  - Acetaminophen 325 MG / HYDROcodone Bitartrate 7.5 MG Oral Tablet (MR-795, 2024-07-18)\n",
       "\n",
       "---\n",
       "\n",
       "**Care Plans and Goals:**\n",
       "- **Diabetes Self-Management Plan:** \n",
       "  - Active since January 2, 2008 (CP-21).\n",
       "- **Weight Reduction Regimen and CPAP Treatment for Sleep Apnea:**\n",
       "  - Active since December 5, 2016 (CP-150).\n",
       "- **Lifestyle Education Regarding Hypertension:** \n",
       "  - Active since January 11, 2017 (CP-208).\n",
       "- **Wound Care for Laceration of Foot:**\n",
       "  - Completed on May 19, 2020 (CP-463).\n",
       "- **Physiotherapy Care Plan for Ruptured Patellar Tendon:**\n",
       "  - Completed on June 19, 2023 (CP-674).\n",
       "- **Physiotherapy Care Plan for Injury of Medial Collateral Ligament:**\n",
       "  - Completed on July 10, 2024 (CP-786).\n",
       "\n",
       "---\n",
       "\n",
       "**Key Procedures:**\n",
       "- **Sleep Apnea Assessments:**\n",
       "  - Multiple assessments performed between November 2016 and February 2024.\n",
       "- **Dental Procedures:**\n",
       "  - Multiple dental consultations and care performed, including plaque removal and fluoride treatments from November 2016 to March 2023.\n",
       "- **Emergency Room Admissions:**\n",
       "  - Laceration treatment on May 19, 2020 (PR-458).\n",
       "  - Knee injuries treated on June 19, 2023 (PR-669) and July 10, 2024 (PR-781).\n",
       "- **Hospital Admissions for Joint Surgery:**\n",
       "  - Non-urgent orthopedic admission for knee rupture on June 26, 2023 (PR-681).\n",
       "  - Postoperative care for knee surgery on June 29, 2023 (PR-682).\n",
       "\n",
       "---\n",
       "\n",
       "**Important Encounters and Observations:**\n",
       "- **Encounters:**\n",
       "  - Regular general examinations and follow-ups with Dr. Rosa Caraballo and Dr. Araceli Willms from 2001 to 2024.\n",
       "  \n",
       "- **Observations:**\n",
       "  - Vital signs and lab results consistently monitored, including weight, blood pressure, glucose levels, and hemoglobin A1c measurements at various encounters.\n",
       "  - Notable blood pressure readings indicate hypertension with systolic values up to 151 mm(Hg) and diastolic values reaching 118 mm(Hg).\n",
       "\n",
       "--- \n",
       "\n",
       "This summary reflects the patient's ongoing healthcare management, highlighting key health conditions, treatment plans, encounters, and significant laboratory observations."
      ],
      "text/plain": [
       "<IPython.core.display.Markdown object>"
      ]
     },
     "metadata": {},
     "output_type": "display_data"
    }
   ],
   "source": [
    "response = openai.chat.completions.create(\n",
    "    model=\"gpt-4o-mini\", # Not all files can be summarized with gpt-4o, as the tokens are too high\n",
    "    messages=[\n",
    "        {\"role\": \"system\", \"content\": \"You are a healthcare professional skilled at analyzing and summarizing patient records.\"},\n",
    "        {\"role\": \"user\", \"content\": prompt}\n",
    "    ],\n",
    "    temperature=0.7,\n",
    "    max_tokens=5000\n",
    ")\n",
    "\n",
    "summary = response.choices[0].message.content\n",
    "display(Markdown(summary))\n"
   ]
  }
 ],
 "metadata": {
  "kernelspec": {
   "display_name": "Python 3",
   "language": "python",
   "name": "python3"
  },
  "language_info": {
   "codemirror_mode": {
    "name": "ipython",
    "version": 3
   },
   "file_extension": ".py",
   "mimetype": "text/x-python",
   "name": "python",
   "nbconvert_exporter": "python",
   "pygments_lexer": "ipython3",
   "version": "3.11.9"
  }
 },
 "nbformat": 4,
 "nbformat_minor": 2
}
